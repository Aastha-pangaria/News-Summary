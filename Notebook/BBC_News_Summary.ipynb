{
  "metadata": {
    "kernelspec": {
      "language": "python",
      "display_name": "Python 3",
      "name": "python3"
    },
    "language_info": {
      "name": "python",
      "version": "3.11.11",
      "mimetype": "text/x-python",
      "codemirror_mode": {
        "name": "ipython",
        "version": 3
      },
      "pygments_lexer": "ipython3",
      "nbconvert_exporter": "python",
      "file_extension": ".py"
    },
    "kaggle": {
      "accelerator": "none",
      "dataSources": [
        {
          "sourceId": 32267,
          "sourceType": "datasetVersion",
          "datasetId": 24984
        }
      ],
      "dockerImageVersionId": 31040,
      "isInternetEnabled": true,
      "language": "python",
      "sourceType": "notebook",
      "isGpuEnabled": false
    },
    "colab": {
      "provenance": [],
      "toc_visible": true
    }
  },
  "nbformat_minor": 0,
  "nbformat": 4,
  "cells": [
    {
      "cell_type": "markdown",
      "source": [
        "## Import Modules"
      ],
      "metadata": {
        "id": "-1-Aqa8OoWyi"
      }
    },
    {
      "cell_type": "code",
      "source": [
        "import pandas as pd\n",
        "import numpy as np\n",
        "import matplotlib.pyplot as plt\n",
        "import seaborn as sns\n",
        "import warnings\n"
      ],
      "metadata": {
        "trusted": true,
        "execution": {
          "iopub.status.busy": "2025-05-28T07:48:03.270288Z",
          "iopub.execute_input": "2025-05-28T07:48:03.270665Z",
          "iopub.status.idle": "2025-05-28T07:48:04.347422Z",
          "shell.execute_reply.started": "2025-05-28T07:48:03.270635Z",
          "shell.execute_reply": "2025-05-28T07:48:04.346569Z"
        },
        "id": "qRs18K65oWym"
      },
      "outputs": [],
      "execution_count": 12
    },
    {
      "cell_type": "code",
      "source": [
        "!pip install rouge"
      ],
      "metadata": {
        "colab": {
          "base_uri": "https://localhost:8080/"
        },
        "id": "8g1An9nSQ3wD",
        "outputId": "bc5e082f-4e8e-42f9-e6a9-d9675a26f8e4"
      },
      "execution_count": 13,
      "outputs": [
        {
          "output_type": "stream",
          "name": "stdout",
          "text": [
            "Requirement already satisfied: rouge in /usr/local/lib/python3.11/dist-packages (1.0.1)\n",
            "Requirement already satisfied: six in /usr/local/lib/python3.11/dist-packages (from rouge) (1.17.0)\n"
          ]
        }
      ]
    },
    {
      "cell_type": "markdown",
      "source": [
        "## Load Data"
      ],
      "metadata": {
        "id": "7cSYSqiEoWyn"
      }
    },
    {
      "cell_type": "code",
      "source": [
        "from google.colab import drive\n",
        "drive.mount('/content/drive')\n"
      ],
      "metadata": {
        "colab": {
          "base_uri": "https://localhost:8080/"
        },
        "id": "TXT_m9dZuS3a",
        "outputId": "16fbd08e-7b72-4b7e-fb77-f6044317b7f2"
      },
      "execution_count": 14,
      "outputs": [
        {
          "output_type": "stream",
          "name": "stdout",
          "text": [
            "Drive already mounted at /content/drive; to attempt to forcibly remount, call drive.mount(\"/content/drive\", force_remount=True).\n"
          ]
        }
      ]
    },
    {
      "cell_type": "code",
      "source": [
        "import os\n",
        "print(\"Current working directory:\", os.getcwd())\n"
      ],
      "metadata": {
        "trusted": true,
        "execution": {
          "iopub.status.busy": "2025-05-28T08:01:27.361385Z",
          "iopub.execute_input": "2025-05-28T08:01:27.361797Z",
          "iopub.status.idle": "2025-05-28T08:01:27.36772Z",
          "shell.execute_reply.started": "2025-05-28T08:01:27.361773Z",
          "shell.execute_reply": "2025-05-28T08:01:27.36673Z"
        },
        "id": "zuBvQmKeoWyo",
        "outputId": "d25a9fca-8230-48b5-8c83-8f2ce86ab5a7",
        "colab": {
          "base_uri": "https://localhost:8080/"
        }
      },
      "outputs": [
        {
          "output_type": "stream",
          "name": "stdout",
          "text": [
            "Current working directory: /content\n"
          ]
        }
      ],
      "execution_count": 15
    },
    {
      "cell_type": "code",
      "source": [
        "import os\n",
        "import pandas as pd\n",
        "\n",
        "base_path = r\"/content/drive/My Drive/archive/BBC News Summary\"\n",
        "articles_path = os.path.join(base_path, \"News Articles\")\n",
        "summaries_path = os.path.join(base_path, \"Summaries\")\n",
        "\n",
        "categories = ['business', 'entertainment', 'politics', 'sport', 'tech']\n",
        "\n",
        "data = []\n",
        "print(\"Contents of News Articles folder:\")\n",
        "print(os.listdir(articles_path))\n",
        "\n",
        "print(\"Folders in base_path:\", os.listdir(base_path))\n",
        "print(\"Folders in articles_path:\", os.listdir(articles_path))\n",
        "\n",
        "for category in categories:\n",
        "    article_dir = os.path.join(articles_path, category)\n",
        "    summary_dir = os.path.join(summaries_path, category)\n",
        "\n",
        "    if not os.path.isdir(article_dir):\n",
        "        print(f\"Warning: {article_dir} does not exist. Skipping.\")\n",
        "        continue\n",
        "\n",
        "    for filename in os.listdir(article_dir):\n",
        "        article_file = os.path.join(article_dir, filename)\n",
        "        summary_file = os.path.join(summary_dir, filename)\n",
        "\n",
        "        if os.path.exists(article_file) and os.path.exists(summary_file):\n",
        "            # Try reading with latin-1 encoding\n",
        "            with open(article_file, 'r', encoding='latin-1') as af:\n",
        "                article = af.read().strip()\n",
        "            # Try reading with latin-1 encoding\n",
        "            with open(summary_file, 'r', encoding='latin-1') as sf:\n",
        "                summary = sf.read().strip()\n",
        "\n",
        "            data.append({\n",
        "                'category': category,\n",
        "                'filename': filename,\n",
        "                'article': article,\n",
        "                'summary': summary\n",
        "            })\n",
        "\n",
        "# Convert to DataFrame\n",
        "df = pd.DataFrame(data)\n",
        "print(df.head())"
      ],
      "metadata": {
        "trusted": true,
        "execution": {
          "iopub.status.busy": "2025-05-28T08:02:33.778929Z",
          "iopub.execute_input": "2025-05-28T08:02:33.77925Z",
          "iopub.status.idle": "2025-05-28T08:02:38.378421Z",
          "shell.execute_reply.started": "2025-05-28T08:02:33.77923Z",
          "shell.execute_reply": "2025-05-28T08:02:38.37739Z"
        },
        "id": "pWHrnxk0oWyp",
        "colab": {
          "base_uri": "https://localhost:8080/"
        },
        "outputId": "940d60ec-d8bc-4aa7-f566-616b15a09b95"
      },
      "outputs": [
        {
          "output_type": "stream",
          "name": "stdout",
          "text": [
            "Contents of News Articles folder:\n",
            "['politics', 'tech', 'business', 'sport', 'entertainment']\n",
            "Folders in base_path: ['News Articles', 'BBC News Summary', 'Summaries']\n",
            "Folders in articles_path: ['politics', 'tech', 'business', 'sport', 'entertainment']\n",
            "   category filename                                            article  \\\n",
            "0  business  008.txt  India calls for fair trade rules\\n\\nIndia, whi...   \n",
            "1  business  005.txt  Pernod takeover talk lifts Domecq\\n\\nShares in...   \n",
            "2  business  006.txt  Japan narrowly escapes recession\\n\\nJapan's ec...   \n",
            "3  business  007.txt  Jobs growth still slow in the US\\n\\nThe US cre...   \n",
            "4  business  003.txt  Yukos unit buyer faces loan claim\\n\\nThe owner...   \n",
            "\n",
            "                                             summary  \n",
            "0  At a conference on developing enterprise hoste...  \n",
            "1  Pernod has reduced the debt it took on to fund...  \n",
            "2  On an annual basis, the data suggests annual g...  \n",
            "3  The job gains mean that President Bush can cel...  \n",
            "4  Yukos' owner Menatep Group says it will ask Ro...  \n"
          ]
        }
      ],
      "execution_count": 16
    },
    {
      "cell_type": "markdown",
      "source": [
        "## Text Preprocessing"
      ],
      "metadata": {
        "id": "A6dkTPyDoWys"
      }
    },
    {
      "cell_type": "code",
      "source": [
        "def clean_text(text):\n",
        "    return text.replace('\\n', ' ').replace('\\r', ' ').strip()\n",
        "\n",
        "# Apply to both article and summary columns\n",
        "df['article_clean'] = df['article'].apply(clean_text)\n",
        "df['summary_clean'] = df['summary'].apply(clean_text)\n",
        "\n",
        "# Preview cleaned text\n",
        "print(df[['article_clean', 'summary_clean']].head())\n"
      ],
      "metadata": {
        "trusted": true,
        "execution": {
          "iopub.status.busy": "2025-05-28T08:15:09.465295Z",
          "iopub.execute_input": "2025-05-28T08:15:09.466182Z",
          "iopub.status.idle": "2025-05-28T08:15:09.489903Z",
          "shell.execute_reply.started": "2025-05-28T08:15:09.466144Z",
          "shell.execute_reply": "2025-05-28T08:15:09.488648Z"
        },
        "id": "BzX3GI7joWyu",
        "colab": {
          "base_uri": "https://localhost:8080/"
        },
        "outputId": "4051818e-e186-46bd-deb3-acce7ef2de66"
      },
      "outputs": [
        {
          "output_type": "stream",
          "name": "stdout",
          "text": [
            "                                       article_clean  \\\n",
            "0  India calls for fair trade rules  India, which...   \n",
            "1  Pernod takeover talk lifts Domecq  Shares in U...   \n",
            "2  Japan narrowly escapes recession  Japan's econ...   \n",
            "3  Jobs growth still slow in the US  The US creat...   \n",
            "4  Yukos unit buyer faces loan claim  The owners ...   \n",
            "\n",
            "                                       summary_clean  \n",
            "0  At a conference on developing enterprise hoste...  \n",
            "1  Pernod has reduced the debt it took on to fund...  \n",
            "2  On an annual basis, the data suggests annual g...  \n",
            "3  The job gains mean that President Bush can cel...  \n",
            "4  Yukos' owner Menatep Group says it will ask Ro...  \n"
          ]
        }
      ],
      "execution_count": 17
    },
    {
      "cell_type": "markdown",
      "source": [
        "## Summarization"
      ],
      "metadata": {
        "id": "RfECbnjKoWyw"
      }
    },
    {
      "cell_type": "code",
      "source": [
        "import nltk\n",
        "from sklearn.feature_extraction.text import TfidfVectorizer\n",
        "from sklearn.metrics.pairwise import cosine_similarity\n",
        "from rouge import Rouge\n",
        "\n",
        "# Download both 'punkt' and 'punkt_tab' just to be sure\n",
        "nltk.download('punkt')\n",
        "nltk.download('punkt_tab')\n",
        "\n",
        "# Select a sample article\n",
        "text = df['article_clean'].iloc[0]\n",
        "reference_summary = df['summary_clean'].iloc[0]\n",
        "\n",
        "# Split into sentences\n",
        "sentences = nltk.sent_tokenize(text)\n",
        "\n",
        "# TF-IDF vectorization\n",
        "vectorizer = TfidfVectorizer(stop_words='english')\n",
        "X = vectorizer.fit_transform(sentences)\n",
        "\n",
        "# Cosine similarity matrix\n",
        "similarity_matrix = cosine_similarity(X)\n",
        "\n",
        "# Rank sentences by their \"importance\" (sum of similarities)\n",
        "sentence_scores = similarity_matrix.sum(axis=1)\n",
        "\n",
        "# Select top N sentences\n",
        "top_n = 3\n",
        "top_sentence_indices = sentence_scores.argsort()[-top_n:][::-1]\n",
        "top_sentences = [sentences[i] for i in sorted(top_sentence_indices)]\n",
        "\n",
        "generated_summary_tf_idf = \" \".join(top_sentences)\n",
        "\n",
        "# Step 8: Print summary\n",
        "print(\"Original Article:\\n\", text[:500], \"\\n...\")\n",
        "print(\"\\nTraditional Extractive Summary (TF-IDF):\")\n",
        "print(generated_summary_tf_idf)\n",
        "\n",
        "# Step 9: Evaluate with ROUGE\n",
        "rouge = Rouge()\n",
        "scores = rouge.get_scores(generated_summary_tf_idf, reference_summary)\n",
        "\n",
        "# Step 10: Print ROUGE scores\n",
        "print(\"\\n🔍 ROUGE Evaluation:\")\n",
        "for metric, score in scores[0].items():\n",
        "    print(f\"{metric}:\")\n",
        "    for submetric, val in score.items():\n",
        "        print(f\"  {submetric}: {val:.4f}\")"
      ],
      "metadata": {
        "trusted": true,
        "execution": {
          "iopub.status.busy": "2025-05-28T08:20:37.443649Z",
          "iopub.execute_input": "2025-05-28T08:20:37.44405Z",
          "iopub.status.idle": "2025-05-28T08:20:38.837583Z",
          "shell.execute_reply.started": "2025-05-28T08:20:37.444024Z",
          "shell.execute_reply": "2025-05-28T08:20:38.836356Z"
        },
        "id": "-kZMkzVRoWyy",
        "colab": {
          "base_uri": "https://localhost:8080/"
        },
        "outputId": "6d59adfd-1b94-4fc1-ab94-f1a56f1be565"
      },
      "outputs": [
        {
          "output_type": "stream",
          "name": "stderr",
          "text": [
            "[nltk_data] Downloading package punkt to /root/nltk_data...\n",
            "[nltk_data]   Package punkt is already up-to-date!\n",
            "[nltk_data] Downloading package punkt_tab to /root/nltk_data...\n",
            "[nltk_data]   Package punkt_tab is already up-to-date!\n"
          ]
        },
        {
          "output_type": "stream",
          "name": "stdout",
          "text": [
            "Original Article:\n",
            " India calls for fair trade rules  India, which attends the G7 meeting of seven leading industrialised nations on Friday, is unlikely to be cowed by its newcomer status.  In London on Thursday ahead of the meeting, India's finance minister, lashed out at the restrictive trade policies of the G7 nations. He objected to subsidies on agriculture that make it hard for developing nations like India to compete. He also called for reform of the United Nations, the World Bank and the IMF.  Palaniappan Ch \n",
            "...\n",
            "\n",
            "Traditional Extractive Summary (TF-IDF):\n",
            "In London on Thursday ahead of the meeting, India's finance minister, lashed out at the restrictive trade policies of the G7 nations. Palaniappan Chidambaram, India's finance minister, argued that these organisations need to take into account the changing world order, given India and China's integration into the global economy. Mr Chidambaram is attending the G7 meeting as part of the G20 group of nations, which account for two thirds of the world's population.\n",
            "\n",
            "🔍 ROUGE Evaluation:\n",
            "rouge-1:\n",
            "  r: 0.4870\n",
            "  p: 1.0000\n",
            "  f: 0.6550\n",
            "rouge-2:\n",
            "  r: 0.4211\n",
            "  p: 0.9697\n",
            "  f: 0.5872\n",
            "rouge-l:\n",
            "  r: 0.4870\n",
            "  p: 1.0000\n",
            "  f: 0.6550\n"
          ]
        }
      ],
      "execution_count": 18
    },
    {
      "cell_type": "markdown",
      "source": [
        "## Text Summarization using sumy.TextRank"
      ],
      "metadata": {
        "id": "uXoDs6_EoWyz"
      }
    },
    {
      "cell_type": "code",
      "source": [
        "pip install sumy"
      ],
      "metadata": {
        "trusted": true,
        "execution": {
          "iopub.status.busy": "2025-05-28T08:22:27.424074Z",
          "iopub.execute_input": "2025-05-28T08:22:27.424495Z",
          "iopub.status.idle": "2025-05-28T08:22:38.915839Z",
          "shell.execute_reply.started": "2025-05-28T08:22:27.424466Z",
          "shell.execute_reply": "2025-05-28T08:22:38.914728Z"
        },
        "id": "UpyBT2ZHoWy1",
        "colab": {
          "base_uri": "https://localhost:8080/"
        },
        "outputId": "e8412e7e-0358-421a-85e0-754d2b0f5980"
      },
      "outputs": [
        {
          "output_type": "stream",
          "name": "stdout",
          "text": [
            "Requirement already satisfied: sumy in /usr/local/lib/python3.11/dist-packages (0.11.0)\n",
            "Requirement already satisfied: docopt<0.7,>=0.6.1 in /usr/local/lib/python3.11/dist-packages (from sumy) (0.6.2)\n",
            "Requirement already satisfied: breadability>=0.1.20 in /usr/local/lib/python3.11/dist-packages (from sumy) (0.1.20)\n",
            "Requirement already satisfied: requests>=2.7.0 in /usr/local/lib/python3.11/dist-packages (from sumy) (2.32.3)\n",
            "Requirement already satisfied: pycountry>=18.2.23 in /usr/local/lib/python3.11/dist-packages (from sumy) (24.6.1)\n",
            "Requirement already satisfied: nltk>=3.0.2 in /usr/local/lib/python3.11/dist-packages (from sumy) (3.9.1)\n",
            "Requirement already satisfied: chardet in /usr/local/lib/python3.11/dist-packages (from breadability>=0.1.20->sumy) (5.2.0)\n",
            "Requirement already satisfied: lxml>=2.0 in /usr/local/lib/python3.11/dist-packages (from breadability>=0.1.20->sumy) (5.4.0)\n",
            "Requirement already satisfied: click in /usr/local/lib/python3.11/dist-packages (from nltk>=3.0.2->sumy) (8.2.1)\n",
            "Requirement already satisfied: joblib in /usr/local/lib/python3.11/dist-packages (from nltk>=3.0.2->sumy) (1.5.1)\n",
            "Requirement already satisfied: regex>=2021.8.3 in /usr/local/lib/python3.11/dist-packages (from nltk>=3.0.2->sumy) (2024.11.6)\n",
            "Requirement already satisfied: tqdm in /usr/local/lib/python3.11/dist-packages (from nltk>=3.0.2->sumy) (4.67.1)\n",
            "Requirement already satisfied: charset-normalizer<4,>=2 in /usr/local/lib/python3.11/dist-packages (from requests>=2.7.0->sumy) (3.4.2)\n",
            "Requirement already satisfied: idna<4,>=2.5 in /usr/local/lib/python3.11/dist-packages (from requests>=2.7.0->sumy) (3.10)\n",
            "Requirement already satisfied: urllib3<3,>=1.21.1 in /usr/local/lib/python3.11/dist-packages (from requests>=2.7.0->sumy) (2.4.0)\n",
            "Requirement already satisfied: certifi>=2017.4.17 in /usr/local/lib/python3.11/dist-packages (from requests>=2.7.0->sumy) (2025.6.15)\n"
          ]
        }
      ],
      "execution_count": 19
    },
    {
      "cell_type": "code",
      "source": [
        "from sumy.parsers.plaintext import PlaintextParser\n",
        "from sumy.nlp.tokenizers import Tokenizer\n",
        "from sumy.summarizers.text_rank import TextRankSummarizer\n",
        "\n",
        "# Use the same article\n",
        "text = df['article_clean'].iloc[0]\n",
        "reference_summary = df['summary_clean'].iloc[0]\n",
        "\n",
        "# Set up parser and summarizer\n",
        "parser = PlaintextParser.from_string(text, Tokenizer(\"english\"))\n",
        "summarizer = TextRankSummarizer()\n",
        "\n",
        "# Generate summary with N sentences\n",
        "summary = summarizer(parser.document, sentences_count=3)\n",
        "\n",
        "# Print result\n",
        "print(\"TextRank Summary:\")\n",
        "generated_summary_sumy = \"\"\n",
        "for sentence in summary:\n",
        "    print(\"-\", sentence)\n",
        "    generated_summary_sumy += str(sentence) + \" \"\n",
        "\n",
        "rouge = Rouge()\n",
        "scores = rouge.get_scores(generated_summary_sumy.strip(), reference_summary)\n",
        "\n",
        "print(\"\\n🔍 ROUGE Evaluation (TextRank):\")\n",
        "for metric, score in scores[0].items():\n",
        "    print(f\"{metric}:\")\n",
        "    for submetric, val in score.items():\n",
        "        print(f\"  {submetric}: {val:.4f}\")\n"
      ],
      "metadata": {
        "trusted": true,
        "execution": {
          "iopub.status.busy": "2025-05-28T08:23:18.107627Z",
          "iopub.execute_input": "2025-05-28T08:23:18.108018Z",
          "iopub.status.idle": "2025-05-28T08:23:18.408241Z",
          "shell.execute_reply.started": "2025-05-28T08:23:18.107987Z",
          "shell.execute_reply": "2025-05-28T08:23:18.40716Z"
        },
        "id": "_7Ez_DAOoWy2",
        "colab": {
          "base_uri": "https://localhost:8080/"
        },
        "outputId": "9c1b4591-03a0-4353-a7ae-6c4ec42914fe"
      },
      "outputs": [
        {
          "output_type": "stream",
          "name": "stdout",
          "text": [
            "TextRank Summary:\n",
            "- In London on Thursday ahead of the meeting, India's finance minister, lashed out at the restrictive trade policies of the G7 nations.\n",
            "- Mr Chidambaram is attending the G7 meeting as part of the G20 group of nations, which account for two thirds of the world's population.\n",
            "- Separately, the IMF warned on Thursday that India's budget deficit was too large and would hamper the country's economic growth, which it forecast to be around 6.5% in the year to March 2005.\n",
            "\n",
            "🔍 ROUGE Evaluation (TextRank):\n",
            "rouge-1:\n",
            "  r: 0.3652\n",
            "  p: 0.6774\n",
            "  f: 0.4746\n",
            "rouge-2:\n",
            "  r: 0.2763\n",
            "  p: 0.5676\n",
            "  f: 0.3717\n",
            "rouge-l:\n",
            "  r: 0.3565\n",
            "  p: 0.6613\n",
            "  f: 0.4633\n"
          ]
        }
      ],
      "execution_count": 20
    },
    {
      "cell_type": "markdown",
      "source": [
        "## Abstractive Summarization"
      ],
      "metadata": {
        "id": "Z-LJYaQCoWy3"
      }
    },
    {
      "cell_type": "code",
      "source": [
        "!pip install transformers\n",
        "!pip install sentencepiece\n"
      ],
      "metadata": {
        "trusted": true,
        "execution": {
          "iopub.status.busy": "2025-05-28T08:28:00.166204Z",
          "iopub.execute_input": "2025-05-28T08:28:00.166562Z",
          "iopub.status.idle": "2025-05-28T08:28:07.922167Z",
          "shell.execute_reply.started": "2025-05-28T08:28:00.166539Z",
          "shell.execute_reply": "2025-05-28T08:28:07.920937Z"
        },
        "id": "9gaWRLVAoWy4",
        "colab": {
          "base_uri": "https://localhost:8080/"
        },
        "outputId": "d08b64c9-a2a6-4d7a-d5ea-6631a57fb19b"
      },
      "outputs": [
        {
          "output_type": "stream",
          "name": "stdout",
          "text": [
            "Requirement already satisfied: transformers in /usr/local/lib/python3.11/dist-packages (4.53.0)\n",
            "Requirement already satisfied: filelock in /usr/local/lib/python3.11/dist-packages (from transformers) (3.18.0)\n",
            "Requirement already satisfied: huggingface-hub<1.0,>=0.30.0 in /usr/local/lib/python3.11/dist-packages (from transformers) (0.33.1)\n",
            "Requirement already satisfied: numpy>=1.17 in /usr/local/lib/python3.11/dist-packages (from transformers) (2.0.2)\n",
            "Requirement already satisfied: packaging>=20.0 in /usr/local/lib/python3.11/dist-packages (from transformers) (24.2)\n",
            "Requirement already satisfied: pyyaml>=5.1 in /usr/local/lib/python3.11/dist-packages (from transformers) (6.0.2)\n",
            "Requirement already satisfied: regex!=2019.12.17 in /usr/local/lib/python3.11/dist-packages (from transformers) (2024.11.6)\n",
            "Requirement already satisfied: requests in /usr/local/lib/python3.11/dist-packages (from transformers) (2.32.3)\n",
            "Requirement already satisfied: tokenizers<0.22,>=0.21 in /usr/local/lib/python3.11/dist-packages (from transformers) (0.21.2)\n",
            "Requirement already satisfied: safetensors>=0.4.3 in /usr/local/lib/python3.11/dist-packages (from transformers) (0.5.3)\n",
            "Requirement already satisfied: tqdm>=4.27 in /usr/local/lib/python3.11/dist-packages (from transformers) (4.67.1)\n",
            "Requirement already satisfied: fsspec>=2023.5.0 in /usr/local/lib/python3.11/dist-packages (from huggingface-hub<1.0,>=0.30.0->transformers) (2025.3.2)\n",
            "Requirement already satisfied: typing-extensions>=3.7.4.3 in /usr/local/lib/python3.11/dist-packages (from huggingface-hub<1.0,>=0.30.0->transformers) (4.14.0)\n",
            "Requirement already satisfied: hf-xet<2.0.0,>=1.1.2 in /usr/local/lib/python3.11/dist-packages (from huggingface-hub<1.0,>=0.30.0->transformers) (1.1.5)\n",
            "Requirement already satisfied: charset-normalizer<4,>=2 in /usr/local/lib/python3.11/dist-packages (from requests->transformers) (3.4.2)\n",
            "Requirement already satisfied: idna<4,>=2.5 in /usr/local/lib/python3.11/dist-packages (from requests->transformers) (3.10)\n",
            "Requirement already satisfied: urllib3<3,>=1.21.1 in /usr/local/lib/python3.11/dist-packages (from requests->transformers) (2.4.0)\n",
            "Requirement already satisfied: certifi>=2017.4.17 in /usr/local/lib/python3.11/dist-packages (from requests->transformers) (2025.6.15)\n",
            "Requirement already satisfied: sentencepiece in /usr/local/lib/python3.11/dist-packages (0.2.0)\n"
          ]
        }
      ],
      "execution_count": 21
    },
    {
      "cell_type": "code",
      "source": [
        "from transformers import BartForConditionalGeneration, BartTokenizer\n",
        "import torch\n",
        "from rouge import Rouge  # <-- ROUGE added\n",
        "\n",
        "# Load the pre-trained BART model and tokenizer\n",
        "model_name = \"facebook/bart-large-cnn\"\n",
        "tokenizer = BartTokenizer.from_pretrained(model_name)\n",
        "model = BartForConditionalGeneration.from_pretrained(model_name)\n",
        "\n",
        "# Select your article text\n",
        "text = df['article_clean'].iloc[0]\n",
        "reference_summary = df['summary_clean'].iloc[0]\n",
        "\n",
        "# Tokenize and encode the input text\n",
        "inputs = tokenizer.encode(text, return_tensors=\"pt\", max_length=1024, truncation=True)\n",
        "\n",
        "# Generate summary (you can tweak length and decoding strategy)\n",
        "summary_ids = model.generate(\n",
        "    inputs,\n",
        "    max_length=130,\n",
        "    min_length=30,\n",
        "    length_penalty=2.0,\n",
        "    num_beams=4,\n",
        "    early_stopping=True\n",
        ")\n",
        "\n",
        "# Decode and print the summary\n",
        "summary_bart = tokenizer.decode(summary_ids[0], skip_special_tokens=True)\n",
        "print(\"BART Summary:\\n\", summary_bart)\n",
        "\n",
        "# ROUGE Evaluation\n",
        "rouge = Rouge()\n",
        "scores = rouge.get_scores(summary_bart, reference_summary)\n",
        "\n",
        "print(\"\\n🔍 ROUGE Evaluation (BART):\")\n",
        "for metric, score in scores[0].items():\n",
        "    print(f\"{metric}:\")\n",
        "    for submetric, val in score.items():\n",
        "        print(f\"  {submetric}: {val:.4f}\")\n"
      ],
      "metadata": {
        "trusted": true,
        "execution": {
          "iopub.status.busy": "2025-05-28T08:28:37.824872Z",
          "iopub.execute_input": "2025-05-28T08:28:37.825311Z",
          "iopub.status.idle": "2025-05-28T08:29:35.59352Z",
          "shell.execute_reply.started": "2025-05-28T08:28:37.825277Z",
          "shell.execute_reply": "2025-05-28T08:29:35.592708Z"
        },
        "id": "nKM9QmmToWy5",
        "colab": {
          "base_uri": "https://localhost:8080/"
        },
        "outputId": "f7ff3349-0ab4-4f49-d1d2-20838eadc3df"
      },
      "outputs": [
        {
          "output_type": "stream",
          "name": "stdout",
          "text": [
            "BART Summary:\n",
            " India's finance minister lashes out at restrictive trade policies of the G7 nations. Palaniappan Chidambaram calls for reform of the United Nations, the World Bank and the IMF. IMF warns India's budget deficit is too large and will hamper economic growth.\n",
            "\n",
            "🔍 ROUGE Evaluation (BART):\n",
            "rouge-1:\n",
            "  r: 0.1565\n",
            "  p: 0.5294\n",
            "  f: 0.2416\n",
            "rouge-2:\n",
            "  r: 0.0592\n",
            "  p: 0.2308\n",
            "  f: 0.0942\n",
            "rouge-l:\n",
            "  r: 0.1565\n",
            "  p: 0.5294\n",
            "  f: 0.2416\n"
          ]
        }
      ],
      "execution_count": 22
    },
    {
      "cell_type": "markdown",
      "source": [
        "## Result Evaluation"
      ],
      "metadata": {
        "id": "7nJqSYjAWWxs"
      }
    },
    {
      "cell_type": "code",
      "source": [
        "from IPython.display import display, Markdown\n",
        "\n",
        "# Assume these variables contain your generated summaries\n",
        "original_text = df['article_clean'].iloc[0]\n",
        "reference_summary = df['summary_clean'].iloc[0]\n",
        "tfidf_summary = generated_summary_tf_idf  # from your TF-IDF code\n",
        "textrank_summary = generated_summary_sumy  # from your Sumy/TextRank code\n",
        "bart_summary = summary_bart  # from your BART code\n",
        "\n",
        "# Optional: Truncate summaries for display (e.g., first 300 chars)\n",
        "def truncate(text, n=300):\n",
        "    return text[:n] + ('...' if len(text) > n else '')\n",
        "\n",
        "display(Markdown(\n",
        "f\"\"\"\n",
        "| **Type**               | **Text** |\n",
        "|------------------------|----------|\n",
        "| **Original Article**   | {truncate(original_text)} |\n",
        "| **Reference Summary**  | {truncate(reference_summary)} |\n",
        "| **TF-IDF Summary**     | {truncate(tfidf_summary)} |\n",
        "| **TextRank Summary**   | {truncate(textrank_summary)} |\n",
        "| **BART Summary**       | {truncate(bart_summary)} |\n",
        "\"\"\"\n",
        "))\n"
      ],
      "metadata": {
        "colab": {
          "base_uri": "https://localhost:8080/",
          "height": 362
        },
        "id": "kpODZbkiVJ38",
        "outputId": "f6316a35-ff06-41e5-81c9-7389154f8f5a"
      },
      "execution_count": 23,
      "outputs": [
        {
          "output_type": "display_data",
          "data": {
            "text/plain": [
              "<IPython.core.display.Markdown object>"
            ],
            "text/markdown": "\n| **Type**               | **Text** |\n|------------------------|----------|\n| **Original Article**   | India calls for fair trade rules  India, which attends the G7 meeting of seven leading industrialised nations on Friday, is unlikely to be cowed by its newcomer status.  In London on Thursday ahead of the meeting, India's finance minister, lashed out at the restrictive trade policies of the G7 natio... |\n| **Reference Summary**  | At a conference on developing enterprise hosted by UK finance minister Gordon Brown on Friday, he said that he was in favour of floating exchange rates because they help countries cope with economic shocks.In London on Thursday ahead of the meeting, India's finance minister, lashed out at the restri... |\n| **TF-IDF Summary**     | In London on Thursday ahead of the meeting, India's finance minister, lashed out at the restrictive trade policies of the G7 nations. Palaniappan Chidambaram, India's finance minister, argued that these organisations need to take into account the changing world order, given India and China's integra... |\n| **TextRank Summary**   | In London on Thursday ahead of the meeting, India's finance minister, lashed out at the restrictive trade policies of the G7 nations. Mr Chidambaram is attending the G7 meeting as part of the G20 group of nations, which account for two thirds of the world's population. Separately, the IMF warned on ... |\n| **BART Summary**       | India's finance minister lashes out at restrictive trade policies of the G7 nations. Palaniappan Chidambaram calls for reform of the United Nations, the World Bank and the IMF. IMF warns India's budget deficit is too large and will hamper economic growth. |\n"
          },
          "metadata": {}
        }
      ]
    }
  ]
}
